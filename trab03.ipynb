{
  "nbformat": 4,
  "nbformat_minor": 0,
  "metadata": {
    "colab": {
      "name": "trab03.ipynb",
      "provenance": [],
      "authorship_tag": "ABX9TyM0dnuQITOSiq0yShbHlxWV",
      "include_colab_link": true
    },
    "kernelspec": {
      "name": "python3",
      "display_name": "Python 3"
    },
    "language_info": {
      "name": "python"
    }
  },
  "cells": [
    {
      "cell_type": "markdown",
      "metadata": {
        "id": "view-in-github",
        "colab_type": "text"
      },
      "source": [
        "<a href=\"https://colab.research.google.com/github/mateustui/IA/blob/main/trab03.ipynb\" target=\"_parent\"><img src=\"https://colab.research.google.com/assets/colab-badge.svg\" alt=\"Open In Colab\"/></a>"
      ]
    },
    {
      "cell_type": "code",
      "metadata": {
        "id": "1whKdcjqj6Ce"
      },
      "source": [
        "from sklearn.neural_network import MLPRegressor\n",
        "import pandas as pd\n",
        "import matplotlib.pyplot as plt\n",
        "from matplotlib.dates import num2date, date2num\n",
        "import matplotlib.dates\n",
        "import datetime\n",
        "import os"
      ],
      "execution_count": 5,
      "outputs": []
    },
    {
      "cell_type": "code",
      "metadata": {
        "colab": {
          "base_uri": "https://localhost:8080/"
        },
        "id": "5Ae2G6oXkByQ",
        "outputId": "256b5c71-58bb-459c-cdb1-b777dbdb4f99"
      },
      "source": [
        "os.environ['KAGGLE_CONFIG_DIR'] = '/content'\n",
        "!kaggle datasets download -d caiquecassemiro/base-petr4\n",
        "!unzip \\*.zip && rm *.zip"
      ],
      "execution_count": 8,
      "outputs": [
        {
          "output_type": "stream",
          "text": [
            "Warning: Your Kaggle API key is readable by other users on this system! To fix this, you can run 'chmod 600 /content/kaggle.json'\n",
            "Downloading base-petr4.zip to /content\n",
            "  0% 0.00/56.2k [00:00<?, ?B/s]\n",
            "100% 56.2k/56.2k [00:00<00:00, 18.9MB/s]\n",
            "Archive:  base-petr4.zip\n",
            "replace base_petr.csv? [y]es, [n]o, [A]ll, [N]one, [r]ename: A\n",
            "  inflating: base_petr.csv           \n"
          ],
          "name": "stdout"
        }
      ]
    },
    {
      "cell_type": "code",
      "metadata": {
        "id": "chCjvfwjldF0"
      },
      "source": [
        "Path = \"/content/\"\n",
        "ticker = 'PETR-4'"
      ],
      "execution_count": 12,
      "outputs": []
    },
    {
      "cell_type": "code",
      "metadata": {
        "id": "bZLuJYZZlDQV"
      },
      "source": [
        "dataset = pd.read_csv('base_petr.csv', sep=',')"
      ],
      "execution_count": 13,
      "outputs": []
    },
    {
      "cell_type": "code",
      "metadata": {
        "colab": {
          "base_uri": "https://localhost:8080/"
        },
        "id": "uK3LGG-QlxUW",
        "outputId": "634bf9c1-9cd0-4bf8-cad8-ea70cbdcc7b2"
      },
      "source": [
        "dataset = dataset[::-1]\n",
        "dataset = dataset[dataset.columns[0:5]]\n",
        "dataset = dataset.applymap(lambda x: x.replace(',', '.'))\n",
        "print(dataset.head())"
      ],
      "execution_count": 15,
      "outputs": [
        {
          "output_type": "stream",
          "text": [
            "            data abertura fechamento maxima minima\n",
            "5940  04/07/1994     0.56       0.58   0.59   0.56\n",
            "5939  05/07/1994     0.57        0.6    0.6   0.56\n",
            "5938  06/07/1994     0.61       0.66   0.66    0.6\n",
            "5937  07/07/1994     0.68       0.69    0.7   0.68\n",
            "5936  08/07/1994     0.68       0.72   0.73   0.67\n"
          ],
          "name": "stdout"
        }
      ]
    },
    {
      "cell_type": "code",
      "metadata": {
        "colab": {
          "base_uri": "https://localhost:8080/"
        },
        "id": "owrOoIXMl4fG",
        "outputId": "b7f7b8db-42a0-415c-ff76-c2cd004e0992"
      },
      "source": [
        "def inclui_proximo_fechamento(dataset):\n",
        "    # inclui a coluna proximo_fechamento pegando o fechamento da (data_atual+1)\n",
        "    proximo_fechamento_temp = dataset['fechamento'].values\n",
        "    proximo_fechamento = [x for x in proximo_fechamento_temp[1:]]\n",
        "    proximo_fechamento.append('6000')\n",
        "    dataset['proximo_fechamento'] = proximo_fechamento\n",
        "\n",
        "    return dataset\n",
        "\n",
        "dados = inclui_proximo_fechamento(dataset)\n",
        "print(dados.head(10))"
      ],
      "execution_count": 16,
      "outputs": [
        {
          "output_type": "stream",
          "text": [
            "            data abertura fechamento maxima minima proximo_fechamento\n",
            "5940  04/07/1994     0.56       0.58   0.59   0.56                0.6\n",
            "5939  05/07/1994     0.57        0.6    0.6   0.56               0.66\n",
            "5938  06/07/1994     0.61       0.66   0.66    0.6               0.69\n",
            "5937  07/07/1994     0.68       0.69    0.7   0.68               0.72\n",
            "5936  08/07/1994     0.68       0.72   0.73   0.67               0.72\n",
            "5935  11/07/1994     0.74       0.72   0.75    0.7                0.7\n",
            "5934  12/07/1994     0.74        0.7   0.75   0.69               0.69\n",
            "5933  13/07/1994     0.71       0.69   0.72   0.68               0.73\n",
            "5932  14/07/1994      0.7       0.73   0.74    0.7               0.74\n",
            "5931  15/07/1994     0.75       0.74   0.76   0.73               0.72\n"
          ],
          "name": "stdout"
        }
      ]
    },
    {
      "cell_type": "code",
      "metadata": {
        "colab": {
          "base_uri": "https://localhost:8080/"
        },
        "id": "foPjSdNGlw9s",
        "outputId": "8d1bf458-d942-4868-993d-70aba86dca31"
      },
      "source": [
        "#separando dados de treino e teste\n",
        "Y = dados['proximo_fechamento']\n",
        "Y = pd.to_numeric(Y)\n",
        "\n",
        "X = dados.drop(['proximo_fechamento', 'data', 'abertura'], axis=1)\n",
        "X = X.applymap(pd.to_numeric)\n",
        "\n",
        "qtd = 5900\n",
        "X_train = X[:qtd]\n",
        "X_test = X[qtd:-1]\n",
        "Y_train = Y[:qtd]\n",
        "Y_test = Y[qtd:-1]\n",
        "print('Tamanho Treino: {}\\nTamanho Teste: {}'.format(len(X_train), len(X_test)))\n",
        "print(X.head())"
      ],
      "execution_count": 17,
      "outputs": [
        {
          "output_type": "stream",
          "text": [
            "Tamanho Treino: 5900\n",
            "Tamanho Teste: 40\n",
            "      fechamento  maxima  minima\n",
            "5940        0.58    0.59    0.56\n",
            "5939        0.60    0.60    0.56\n",
            "5938        0.66    0.66    0.60\n",
            "5937        0.69    0.70    0.68\n",
            "5936        0.72    0.73    0.67\n"
          ],
          "name": "stdout"
        }
      ]
    },
    {
      "cell_type": "code",
      "metadata": {
        "id": "LXycbARGmD7s"
      },
      "source": [
        "#instanciando objeto\n",
        "mlp = MLPRegressor(solver='adam', alpha=0.0001, hidden_layer_sizes=(10,10), random_state=1, \n",
        "                   learning_rate='constant', learning_rate_init=0.01, max_iter=1000, \n",
        "                   activation='logistic', momentum=0.9, verbose=False, tol=0.00001)"
      ],
      "execution_count": 31,
      "outputs": []
    },
    {
      "cell_type": "code",
      "metadata": {
        "colab": {
          "base_uri": "https://localhost:8080/"
        },
        "id": "v1f2KC9rmQW1",
        "outputId": "aff33edc-9346-44ad-816d-73c6f2d57104"
      },
      "source": [
        "#treinando a rede\n",
        "mlp.fit(X_train, Y_train)"
      ],
      "execution_count": 32,
      "outputs": [
        {
          "output_type": "execute_result",
          "data": {
            "text/plain": [
              "MLPRegressor(activation='logistic', alpha=0.0001, batch_size='auto', beta_1=0.9,\n",
              "             beta_2=0.999, early_stopping=False, epsilon=1e-08,\n",
              "             hidden_layer_sizes=(10, 10), learning_rate='constant',\n",
              "             learning_rate_init=0.01, max_fun=15000, max_iter=1000,\n",
              "             momentum=0.9, n_iter_no_change=10, nesterovs_momentum=True,\n",
              "             power_t=0.5, random_state=1, shuffle=True, solver='adam',\n",
              "             tol=1e-05, validation_fraction=0.1, verbose=False,\n",
              "             warm_start=False)"
            ]
          },
          "metadata": {
            "tags": []
          },
          "execution_count": 32
        }
      ]
    },
    {
      "cell_type": "code",
      "metadata": {
        "id": "UwhJjJ12mQH6"
      },
      "source": [
        "#predizendo os valores\n",
        "saidas = mlp.predict(X_test)\n",
        "saidas = [round(x, 2) for x in saidas]"
      ],
      "execution_count": 33,
      "outputs": []
    },
    {
      "cell_type": "code",
      "metadata": {
        "colab": {
          "base_uri": "https://localhost:8080/"
        },
        "id": "1XdTiCxLmGv3",
        "outputId": "ef9115f2-226b-48eb-96b4-e64c84d21ca0"
      },
      "source": [
        "taxa_de_acerto = round(mlp.score(X_test, Y_test), 2) * 100\n",
        "print(f'{taxa_de_acerto}%')\n",
        "print(f'{list(Y_test[:10].values)} (Valores reais)')\n",
        "print(f'{saidas[:10]} (Valores obtidos através da rede neural)')"
      ],
      "execution_count": 34,
      "outputs": [
        {
          "output_type": "stream",
          "text": [
            "90.0%\n",
            "[27.34, 25.91, 25.61, 25.01, 24.71, 23.27, 20.08, 19.8, 16.91, 19.3] (Valores reais)\n",
            "[26.68, 27.29, 25.96, 25.59, 25.09, 24.71, 23.33, 20.01, 19.81, 17.01] (Valores obtidos através da rede neural)\n"
          ],
          "name": "stdout"
        }
      ]
    },
    {
      "cell_type": "code",
      "metadata": {
        "colab": {
          "base_uri": "https://localhost:8080/",
          "height": 264
        },
        "id": "aJPW4_dNmKI9",
        "outputId": "14dc12aa-70e8-4635-ccef-997285b62e6c"
      },
      "source": [
        "plt.plot(saidas, 'r', Y_test.values, 'b')\n",
        "plt.show()"
      ],
      "execution_count": 35,
      "outputs": [
        {
          "output_type": "display_data",
          "data": {
            "image/png": "[encoded data removed]",
            "text/plain": [
              "<Figure size 432x288 with 1 Axes>"
            ]
          },
          "metadata": {
            "tags": [],
            "needs_background": "light"
          }
        }
      ]
    }
  ]
}